{
 "cells": [
  {
   "cell_type": "code",
   "execution_count": 2,
   "metadata": {},
   "outputs": [],
   "source": [
    "import pandas as pd\n",
    "from sklearn import metrics\n",
    "from sklearn.neighbors import KNeighborsClassifier\n",
    "from sklearn.metrics import confusion_matrix"
   ]
  },
  {
   "cell_type": "markdown",
   "metadata": {},
   "source": [
    "### Train Dataset"
   ]
  },
  {
   "cell_type": "code",
   "execution_count": 3,
   "metadata": {
    "scrolled": false
   },
   "outputs": [
    {
     "name": "stdout",
     "output_type": "stream",
     "text": [
      "(20, 5)\n"
     ]
    },
    {
     "data": {
      "text/html": [
       "<div>\n",
       "<style scoped>\n",
       "    .dataframe tbody tr th:only-of-type {\n",
       "        vertical-align: middle;\n",
       "    }\n",
       "\n",
       "    .dataframe tbody tr th {\n",
       "        vertical-align: top;\n",
       "    }\n",
       "\n",
       "    .dataframe thead th {\n",
       "        text-align: right;\n",
       "    }\n",
       "</style>\n",
       "<table border=\"1\" class=\"dataframe\">\n",
       "  <thead>\n",
       "    <tr style=\"text-align: right;\">\n",
       "      <th></th>\n",
       "      <th>file_name</th>\n",
       "      <th>hue1</th>\n",
       "      <th>hue2</th>\n",
       "      <th>hue3</th>\n",
       "      <th>ripeness_index</th>\n",
       "    </tr>\n",
       "  </thead>\n",
       "  <tbody>\n",
       "    <tr>\n",
       "      <th>0</th>\n",
       "      <td>g078.jpg</td>\n",
       "      <td>69.0</td>\n",
       "      <td>68.0</td>\n",
       "      <td>69.0</td>\n",
       "      <td>1.0</td>\n",
       "    </tr>\n",
       "    <tr>\n",
       "      <th>1</th>\n",
       "      <td>g052.jpg</td>\n",
       "      <td>66.0</td>\n",
       "      <td>60.0</td>\n",
       "      <td>62.0</td>\n",
       "      <td>1.0</td>\n",
       "    </tr>\n",
       "    <tr>\n",
       "      <th>2</th>\n",
       "      <td>g026.jpg</td>\n",
       "      <td>65.0</td>\n",
       "      <td>59.0</td>\n",
       "      <td>69.0</td>\n",
       "      <td>1.0</td>\n",
       "    </tr>\n",
       "    <tr>\n",
       "      <th>3</th>\n",
       "      <td>g001.jpg</td>\n",
       "      <td>70.0</td>\n",
       "      <td>71.0</td>\n",
       "      <td>61.0</td>\n",
       "      <td>1.0</td>\n",
       "    </tr>\n",
       "    <tr>\n",
       "      <th>4</th>\n",
       "      <td>g104.jpg</td>\n",
       "      <td>72.0</td>\n",
       "      <td>73.0</td>\n",
       "      <td>66.0</td>\n",
       "      <td>1.0</td>\n",
       "    </tr>\n",
       "  </tbody>\n",
       "</table>\n",
       "</div>"
      ],
      "text/plain": [
       "  file_name  hue1  hue2  hue3  ripeness_index\n",
       "0  g078.jpg  69.0  68.0  69.0             1.0\n",
       "1  g052.jpg  66.0  60.0  62.0             1.0\n",
       "2  g026.jpg  65.0  59.0  69.0             1.0\n",
       "3  g001.jpg  70.0  71.0  61.0             1.0\n",
       "4  g104.jpg  72.0  73.0  66.0             1.0"
      ]
     },
     "execution_count": 3,
     "metadata": {},
     "output_type": "execute_result"
    }
   ],
   "source": [
    "train = pd.read_csv(\"/Users/abdulmueez/Desktop/Papers/TENSYMP/A-Cost-Effective-Framework-to-Predict-the-Ripeness-of-any-Fruit-Based-on-Color/Dataset (CSV)/train.csv\")\n",
    "print(train.shape)\n",
    "train.head()"
   ]
  },
  {
   "cell_type": "markdown",
   "metadata": {},
   "source": [
    "### Test Dataset"
   ]
  },
  {
   "cell_type": "code",
   "execution_count": 4,
   "metadata": {
    "scrolled": false
   },
   "outputs": [
    {
     "name": "stdout",
     "output_type": "stream",
     "text": [
      "(253, 5)\n"
     ]
    },
    {
     "data": {
      "text/html": [
       "<div>\n",
       "<style scoped>\n",
       "    .dataframe tbody tr th:only-of-type {\n",
       "        vertical-align: middle;\n",
       "    }\n",
       "\n",
       "    .dataframe tbody tr th {\n",
       "        vertical-align: top;\n",
       "    }\n",
       "\n",
       "    .dataframe thead th {\n",
       "        text-align: right;\n",
       "    }\n",
       "</style>\n",
       "<table border=\"1\" class=\"dataframe\">\n",
       "  <thead>\n",
       "    <tr style=\"text-align: right;\">\n",
       "      <th></th>\n",
       "      <th>file_name</th>\n",
       "      <th>hue1</th>\n",
       "      <th>hue2</th>\n",
       "      <th>hue3</th>\n",
       "      <th>ripeness_index</th>\n",
       "    </tr>\n",
       "  </thead>\n",
       "  <tbody>\n",
       "    <tr>\n",
       "      <th>0</th>\n",
       "      <td>g057.jpg</td>\n",
       "      <td>70.0</td>\n",
       "      <td>62.0</td>\n",
       "      <td>67.0</td>\n",
       "      <td>1.0</td>\n",
       "    </tr>\n",
       "    <tr>\n",
       "      <th>1</th>\n",
       "      <td>g043.jpg</td>\n",
       "      <td>69.0</td>\n",
       "      <td>68.0</td>\n",
       "      <td>62.0</td>\n",
       "      <td>1.0</td>\n",
       "    </tr>\n",
       "    <tr>\n",
       "      <th>2</th>\n",
       "      <td>g094.jpg</td>\n",
       "      <td>78.0</td>\n",
       "      <td>74.0</td>\n",
       "      <td>71.0</td>\n",
       "      <td>1.0</td>\n",
       "    </tr>\n",
       "    <tr>\n",
       "      <th>3</th>\n",
       "      <td>g080.jpg</td>\n",
       "      <td>73.0</td>\n",
       "      <td>73.0</td>\n",
       "      <td>63.0</td>\n",
       "      <td>1.0</td>\n",
       "    </tr>\n",
       "    <tr>\n",
       "      <th>4</th>\n",
       "      <td>g081.jpg</td>\n",
       "      <td>72.0</td>\n",
       "      <td>72.0</td>\n",
       "      <td>63.0</td>\n",
       "      <td>1.0</td>\n",
       "    </tr>\n",
       "  </tbody>\n",
       "</table>\n",
       "</div>"
      ],
      "text/plain": [
       "  file_name  hue1  hue2  hue3  ripeness_index\n",
       "0  g057.jpg  70.0  62.0  67.0             1.0\n",
       "1  g043.jpg  69.0  68.0  62.0             1.0\n",
       "2  g094.jpg  78.0  74.0  71.0             1.0\n",
       "3  g080.jpg  73.0  73.0  63.0             1.0\n",
       "4  g081.jpg  72.0  72.0  63.0             1.0"
      ]
     },
     "execution_count": 4,
     "metadata": {},
     "output_type": "execute_result"
    }
   ],
   "source": [
    "test = pd.read_csv(\"/Users/abdulmueez/Desktop/Papers/TENSYMP/A-Cost-Effective-Framework-to-Predict-the-Ripeness-of-any-Fruit-Based-on-Color/Dataset (CSV)/test.csv\")\n",
    "print(test.shape)\n",
    "test.head()"
   ]
  },
  {
   "cell_type": "markdown",
   "metadata": {},
   "source": [
    "### KNN accuracy w/ <font color='red'>k = 5</font>"
   ]
  },
  {
   "cell_type": "code",
   "execution_count": 5,
   "metadata": {},
   "outputs": [],
   "source": [
    "train = train.drop(\"file_name\", 1)\n",
    "test = test.drop(\"file_name\", 1)\n",
    "\n",
    "X_train = train.drop(columns=[\"ripeness_index\"])\n",
    "y_train = train[\"ripeness_index\"].values\n",
    "\n",
    "X_test = test.drop(columns=[\"ripeness_index\"])\n",
    "y_test = test[\"ripeness_index\"].values"
   ]
  },
  {
   "cell_type": "code",
   "execution_count": 6,
   "metadata": {},
   "outputs": [
    {
     "data": {
      "text/plain": [
       "0.849802371541502"
      ]
     },
     "execution_count": 6,
     "metadata": {},
     "output_type": "execute_result"
    }
   ],
   "source": [
    "knn = KNeighborsClassifier(n_neighbors=5)\n",
    "knn.fit(X_train, y_train)\n",
    "knn.score(X_test, y_test)"
   ]
  },
  {
   "cell_type": "markdown",
   "metadata": {},
   "source": [
    "### Confusion Matrix"
   ]
  },
  {
   "cell_type": "code",
   "execution_count": 7,
   "metadata": {
    "scrolled": true
   },
   "outputs": [
    {
     "name": "stdout",
     "output_type": "stream",
     "text": [
      "0.849802371541502\n"
     ]
    },
    {
     "data": {
      "text/plain": [
       "array([[94,  5,  0,  0],\n",
       "       [ 4, 35,  4,  0],\n",
       "       [ 0, 16, 66,  1],\n",
       "       [ 0,  0,  8, 20]])"
      ]
     },
     "execution_count": 7,
     "metadata": {},
     "output_type": "execute_result"
    }
   ],
   "source": [
    "y_pred = knn.predict(X_test)\n",
    "accuracy = metrics.accuracy_score(y_test, y_pred)\n",
    "print(accuracy)\n",
    "confusion_matrix(y_test, y_pred)"
   ]
  },
  {
   "cell_type": "markdown",
   "metadata": {},
   "source": [
    "### KNN accuracy for all possible values of <font color='red'>k</font>"
   ]
  },
  {
   "cell_type": "code",
   "execution_count": 8,
   "metadata": {},
   "outputs": [
    {
     "name": "stdout",
     "output_type": "stream",
     "text": [
      "k = 1 , acc = 82.21343873517787\n",
      "k = 2 , acc = 68.77470355731225\n",
      "k = 3 , acc = 75.49407114624506\n",
      "k = 4 , acc = 83.00395256916995\n",
      "k = 5 , acc = 84.98023715415019\n",
      "k = 6 , acc = 79.84189723320159\n",
      "k = 7 , acc = 84.98023715415019\n",
      "k = 8 , acc = 83.399209486166\n",
      "k = 9 , acc = 83.79446640316206\n",
      "k = 10 , acc = 82.21343873517787\n",
      "k = 11 , acc = 77.4703557312253\n",
      "k = 12 , acc = 71.14624505928853\n",
      "k = 13 , acc = 66.00790513833992\n",
      "k = 14 , acc = 59.683794466403164\n",
      "k = 15 , acc = 53.359683794466406\n",
      "k = 16 , acc = 53.359683794466406\n",
      "k = 17 , acc = 52.96442687747036\n",
      "k = 18 , acc = 52.569169960474305\n",
      "k = 19 , acc = 52.17391304347826\n",
      "k = 20 , acc = 39.130434782608695\n"
     ]
    }
   ],
   "source": [
    "k_range = list(range(1, 21))\n",
    "scores = []\n",
    "for k in k_range:\n",
    "    knn = KNeighborsClassifier(n_neighbors=k)\n",
    "    knn.fit(X_train, y_train)\n",
    "    y_pred = knn.predict(X_test)\n",
    "    accuracy = metrics.accuracy_score(y_test, y_pred)*100\n",
    "    scores.append(accuracy)\n",
    "    print(\"k =\",k,\", acc =\",accuracy)"
   ]
  },
  {
   "cell_type": "markdown",
   "metadata": {},
   "source": [
    "### Accuracy vs k graph"
   ]
  },
  {
   "cell_type": "code",
   "execution_count": 15,
   "metadata": {},
   "outputs": [
    {
     "data": {
      "image/png": "[encoded data removed]",
      "text/plain": [
       "<matplotlib.figure.Figure at 0x1a1b4fbb70>"
      ]
     },
     "metadata": {},
     "output_type": "display_data"
    }
   ],
   "source": [
    "# import Matplotlib (scientific plotting library)\n",
    "import matplotlib.pyplot as plt\n",
    "# allow plots to appear within the notebook\n",
    "%matplotlib inline\n",
    "\n",
    "\n",
    "# Integer axis\n",
    "from matplotlib.ticker import MaxNLocator\n",
    "ax = plt.figure().gca()\n",
    "ax.xaxis.set_major_locator(MaxNLocator(integer=True))\n",
    "\n",
    "# Tick intervals\n",
    "import matplotlib.ticker as plticker\n",
    "loc_x = plticker.MultipleLocator(base=2) # this locator puts ticks at regular intervals\n",
    "ax.xaxis.set_major_locator(loc_x)\n",
    "loc_y = plticker.MultipleLocator(base=10)\n",
    "ax.yaxis.set_major_locator(loc_y)\n",
    "\n",
    "# Markings\n",
    "# x coordinates for the lines\n",
    "xcoords = [5,7]\n",
    "# colors for the lines\n",
    "colors = ['red','black']\n",
    "for xc,c in zip(xcoords,colors):\n",
    "    plt.axvline(x=xc,linestyle='--', label='k = {}'.format(xc), c=c)    \n",
    "plt.legend()\n",
    "\n",
    "# Plot graph\n",
    "plt.plot(k_range, scores, color=\"#1f77b4\")\n",
    "plt.xlabel('Value of k')\n",
    "plt.ylabel('Testing accuracy (%)')\n",
    "\n",
    "# Markers\n",
    "#plt.plot(k_range, scores, 'x', markevery=[4,6], color=\"brown\", markersize=10)\n",
    "\n",
    "# Save figure\n",
    "plt.savefig('n_neighbors_legend.png', format='png', dpi=200)"
   ]
  },
  {
   "cell_type": "code",
   "execution_count": null,
   "metadata": {},
   "outputs": [],
   "source": []
  }
 ],
 "metadata": {
  "kernelspec": {
   "display_name": "Python 3",
   "language": "python",
   "name": "python3"
  },
  "language_info": {
   "codemirror_mode": {
    "name": "ipython",
    "version": 3
   },
   "file_extension": ".py",
   "mimetype": "text/x-python",
   "name": "python",
   "nbconvert_exporter": "python",
   "pygments_lexer": "ipython3",
   "version": "3.6.8"
  }
 },
 "nbformat": 4,
 "nbformat_minor": 2
}
